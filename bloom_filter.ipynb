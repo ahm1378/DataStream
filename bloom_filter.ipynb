{
 "cells": [
  {
   "cell_type": "code",
   "execution_count": 6,
   "id": "0eee5d1e",
   "metadata": {},
   "outputs": [],
   "source": [
    "import numpy as np\n",
    "import pandas as pd\n"
   ]
  },
  {
   "cell_type": "code",
   "execution_count": 7,
   "id": "c8b4831d",
   "metadata": {},
   "outputs": [],
   "source": [
    "data = pd.read_csv(\"malicious_phish.csv\")"
   ]
  },
  {
   "cell_type": "code",
   "execution_count": 8,
   "id": "b711886e",
   "metadata": {},
   "outputs": [
    {
     "data": {
      "text/html": [
       "<div>\n",
       "<style scoped>\n",
       "    .dataframe tbody tr th:only-of-type {\n",
       "        vertical-align: middle;\n",
       "    }\n",
       "\n",
       "    .dataframe tbody tr th {\n",
       "        vertical-align: top;\n",
       "    }\n",
       "\n",
       "    .dataframe thead th {\n",
       "        text-align: right;\n",
       "    }\n",
       "</style>\n",
       "<table border=\"1\" class=\"dataframe\">\n",
       "  <thead>\n",
       "    <tr style=\"text-align: right;\">\n",
       "      <th></th>\n",
       "      <th>url</th>\n",
       "      <th>type</th>\n",
       "    </tr>\n",
       "  </thead>\n",
       "  <tbody>\n",
       "    <tr>\n",
       "      <th>0</th>\n",
       "      <td>br-icloud.com.br</td>\n",
       "      <td>phishing</td>\n",
       "    </tr>\n",
       "    <tr>\n",
       "      <th>1</th>\n",
       "      <td>mp3raid.com/music/krizz_kaliko.html</td>\n",
       "      <td>benign</td>\n",
       "    </tr>\n",
       "    <tr>\n",
       "      <th>2</th>\n",
       "      <td>bopsecrets.org/rexroth/cr/1.htm</td>\n",
       "      <td>benign</td>\n",
       "    </tr>\n",
       "    <tr>\n",
       "      <th>3</th>\n",
       "      <td>http://www.garage-pirenne.be/index.php?option=...</td>\n",
       "      <td>defacement</td>\n",
       "    </tr>\n",
       "    <tr>\n",
       "      <th>4</th>\n",
       "      <td>http://adventure-nicaragua.net/index.php?optio...</td>\n",
       "      <td>defacement</td>\n",
       "    </tr>\n",
       "  </tbody>\n",
       "</table>\n",
       "</div>"
      ],
      "text/plain": [
       "                                                 url        type\n",
       "0                                   br-icloud.com.br    phishing\n",
       "1                mp3raid.com/music/krizz_kaliko.html      benign\n",
       "2                    bopsecrets.org/rexroth/cr/1.htm      benign\n",
       "3  http://www.garage-pirenne.be/index.php?option=...  defacement\n",
       "4  http://adventure-nicaragua.net/index.php?optio...  defacement"
      ]
     },
     "execution_count": 8,
     "metadata": {},
     "output_type": "execute_result"
    }
   ],
   "source": [
    "data.head()"
   ]
  },
  {
   "cell_type": "code",
   "execution_count": 9,
   "id": "c4dfe40b",
   "metadata": {},
   "outputs": [],
   "source": [
    "urls = data['url'].values"
   ]
  },
  {
   "cell_type": "code",
   "execution_count": 10,
   "id": "706a5157",
   "metadata": {},
   "outputs": [
    {
     "data": {
      "text/plain": [
       "651191"
      ]
     },
     "execution_count": 10,
     "metadata": {},
     "output_type": "execute_result"
    }
   ],
   "source": [
    "len(urls)"
   ]
  },
  {
   "cell_type": "code",
   "execution_count": 16,
   "id": "d12eebe3",
   "metadata": {},
   "outputs": [
    {
     "name": "stdout",
     "output_type": "stream",
     "text": [
      "Collecting mmh3\n",
      "  Downloading mmh3-4.0.0-cp38-cp38-win_amd64.whl (31 kB)\n",
      "Installing collected packages: mmh3\n",
      "Successfully installed mmh3-4.0.0\n"
     ]
    },
    {
     "name": "stderr",
     "output_type": "stream",
     "text": [
      "  WARNING: Retrying (Retry(total=4, connect=None, read=None, redirect=None, status=None)) after connection broken by 'ReadTimeoutError(\"HTTPSConnectionPool(host='files.pythonhosted.org', port=443): Read timed out. (read timeout=15)\")': /packages/72/1a/529224014564ed0b98f3c4e5bf25983068f51cefb5d50eb75fea1444dc01/mmh3-4.0.0-cp38-cp38-win_amd64.whl\n",
      "  WARNING: Retrying (Retry(total=3, connect=None, read=None, redirect=None, status=None)) after connection broken by 'ReadTimeoutError(\"HTTPSConnectionPool(host='files.pythonhosted.org', port=443): Read timed out. (read timeout=15)\")': /packages/72/1a/529224014564ed0b98f3c4e5bf25983068f51cefb5d50eb75fea1444dc01/mmh3-4.0.0-cp38-cp38-win_amd64.whl\n",
      "\n",
      "[notice] A new release of pip is available: 23.0.1 -> 23.1.2\n",
      "[notice] To update, run: python.exe -m pip install --upgrade pip\n"
     ]
    }
   ],
   "source": [
    "!pip install mmh3"
   ]
  },
  {
   "cell_type": "code",
   "execution_count": 11,
   "id": "cdfa5a7b",
   "metadata": {},
   "outputs": [],
   "source": [
    "import math\n",
    "import mmh3"
   ]
  },
  {
   "cell_type": "code",
   "execution_count": 15,
   "id": "1b2e3c41",
   "metadata": {},
   "outputs": [],
   "source": [
    "class CacheFilter:\n",
    "    def __init__(self,data,m):\n",
    "        self.hash_size = m\n",
    "        self.data = data\n",
    "        self.n=len(data)\n",
    "        self.hash_vector = np.full(m,False,dtype=bool)\n",
    "        self.hash_count = self.get_hash_count()\n",
    "        self.add_items(self.hash_count)\n",
    "    def initilaze(self,item,hash_count):\n",
    "        for i in range(hash_count):\n",
    "            hash_value = mmh3.hash(item, i) % self.hash_size\n",
    "            self.hash_vector[hash_value]=True\n",
    "    def add_items(self,hash_count):\n",
    "        for item in self.data:\n",
    "            self.initilaze(item,hash_count)\n",
    "    def get_hash_count(self):\n",
    "        return int((self.hash_size/self.n) * math.log(2))\n",
    "    def check_item(self,item):\n",
    "        hash_values = [self.hash_vector[mmh3.hash(item,i)%self.hash_size] for i in range(self.hash_count)]\n",
    "        if False in hash_values:\n",
    "            return False\n",
    "        else:\n",
    "            return True\n",
    "        \n",
    "    \n",
    "        \n",
    "        "
   ]
  },
  {
   "cell_type": "code",
   "execution_count": 16,
   "id": "34f92a70",
   "metadata": {},
   "outputs": [],
   "source": [
    "u = CacheFilter(data,1500000)\n",
    "items = ['songfacts.com/detail.php?id=13410','dastank.com/','nscalelimited.com/2011/04/20/amtrak-40-anniversary/',\n",
    "         'nssl.noaa.gov/users/brooks/public_html/damage/tdam1.html','americanbuildings.com/','informer.pe.hu/Server/',\n",
    "        'dot.ny.gov/roadwork?rwregion=07?nd=nysdot','macdonaldphotography.com/commercial/','imdb.com/name/nm0799591/'\n",
    "        ]"
   ]
  },
  {
   "cell_type": "code",
   "execution_count": 17,
   "id": "1d7c70cf",
   "metadata": {},
   "outputs": [
    {
     "data": {
      "text/plain": [
       "False"
      ]
     },
     "execution_count": 17,
     "metadata": {},
     "output_type": "execute_result"
    }
   ],
   "source": [
    "u.check_item('songfacts.com/detail.php?id=13410')"
   ]
  },
  {
   "cell_type": "code",
   "execution_count": 18,
   "id": "ececf9d4",
   "metadata": {},
   "outputs": [
    {
     "name": "stdout",
     "output_type": "stream",
     "text": [
      "False False\n",
      "False False\n",
      "False False\n",
      "False False\n",
      "False False\n",
      "False False\n",
      "False False\n",
      "False False\n",
      "False False\n"
     ]
    }
   ],
   "source": [
    "for i in items:\n",
    "    b= i in data\n",
    "    print(u.check_item(i),b)"
   ]
  },
  {
   "cell_type": "code",
   "execution_count": 19,
   "id": "73f34195",
   "metadata": {},
   "outputs": [],
   "source": [
    "n= len(data)\n",
    "p=0.2"
   ]
  },
  {
   "cell_type": "code",
   "execution_count": 20,
   "id": "711531f7",
   "metadata": {},
   "outputs": [
    {
     "data": {
      "text/plain": [
       "2181381.8485366153"
      ]
     },
     "execution_count": 20,
     "metadata": {},
     "output_type": "execute_result"
    }
   ],
   "source": [
    "-(n * math.log(p))/(math.log(2)**2)"
   ]
  },
  {
   "cell_type": "code",
   "execution_count": 21,
   "id": "d8e9ca60",
   "metadata": {},
   "outputs": [],
   "source": [
    "m=2181381"
   ]
  },
  {
   "cell_type": "code",
   "execution_count": 22,
   "id": "68b40152",
   "metadata": {},
   "outputs": [],
   "source": [
    "u = CacheFilter(data,1500000)\n",
    "items = ['songfacts.com/detail.php?id=13410','dastank.com/','nscalelimited.com/2011/04/20/amtrak-40-anniversary/',\n",
    "         'nssl.noaa.gov/users/brooks/public_html/damage/tdam1.html','americanbuildings.com/','informer.pe.hu/Server/',\n",
    "        'dot.ny.gov/roadwork?rwregion=07?nd=nysdot','macdonaldphotography.com/commercial/','imdb.com/name/nm0799591/'\n",
    "        ]"
   ]
  },
  {
   "cell_type": "code",
   "execution_count": 23,
   "id": "92b6167f",
   "metadata": {},
   "outputs": [
    {
     "name": "stdout",
     "output_type": "stream",
     "text": [
      "False False\n",
      "False False\n",
      "False False\n",
      "False False\n",
      "False False\n",
      "False False\n",
      "False False\n",
      "False False\n",
      "False False\n"
     ]
    }
   ],
   "source": [
    "for i in items:\n",
    "    b= i in data\n",
    "    print(u.check_item(i),b)"
   ]
  },
  {
   "cell_type": "code",
   "execution_count": null,
   "id": "a606b748",
   "metadata": {},
   "outputs": [],
   "source": []
  }
 ],
 "metadata": {
  "kernelspec": {
   "display_name": "Python 3 (ipykernel)",
   "language": "python",
   "name": "python3"
  },
  "language_info": {
   "codemirror_mode": {
    "name": "ipython",
    "version": 3
   },
   "file_extension": ".py",
   "mimetype": "text/x-python",
   "name": "python",
   "nbconvert_exporter": "python",
   "pygments_lexer": "ipython3",
   "version": "3.8.2"
  }
 },
 "nbformat": 4,
 "nbformat_minor": 5
}
