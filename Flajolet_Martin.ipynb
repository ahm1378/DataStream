{
 "cells": [
  {
   "cell_type": "code",
   "execution_count": 2,
   "id": "36a46ad2",
   "metadata": {},
   "outputs": [
    {
     "name": "stdout",
     "output_type": "stream",
     "text": [
      "Requirement already satisfied: mmh3 in c:\\users\\user\\appdata\\local\\programs\\python\\python38\\lib\\site-packages (4.0.0)\n"
     ]
    },
    {
     "name": "stderr",
     "output_type": "stream",
     "text": [
      "\n",
      "[notice] A new release of pip is available: 23.0.1 -> 23.1.2\n",
      "[notice] To update, run: python.exe -m pip install --upgrade pip\n"
     ]
    }
   ],
   "source": [
    "!pip install mmh3"
   ]
  },
  {
   "cell_type": "code",
   "execution_count": 5,
   "id": "ca9571c9",
   "metadata": {},
   "outputs": [],
   "source": [
    "import numpy as np\n",
    "import pandas as pd\n",
    "import mmh3"
   ]
  },
  {
   "cell_type": "code",
   "execution_count": 6,
   "id": "37b529aa",
   "metadata": {},
   "outputs": [
    {
     "name": "stdout",
     "output_type": "stream",
     "text": [
      "Estimated number of unique hashtags: 44\n"
     ]
    }
   ],
   "source": [
    "import mmh3\n",
    "import math\n",
    "\n",
    "def tweet_generator(stream_file):\n",
    "    with open(stream_file, 'r') as file:\n",
    "        for line in file:\n",
    "            yield line\n",
    "\n",
    "def estimate_unique_hashtags(stream_file):\n",
    "    num_buckets = 32\n",
    "    max_zeros = [0] * num_buckets\n",
    "    total_tweets = 0\n",
    "\n",
    "    tweet_stream = tweet_generator(stream_file)\n",
    "    for tweet in tweet_stream:\n",
    "        total_tweets += 1\n",
    "        hashtags = extract_hashtags(tweet)\n",
    "        for hashtag in hashtags:\n",
    "            hash_value = mmh3.hash(hashtag)\n",
    "            binary_repr = bin(hash_value)[2:]\n",
    "            trailing_zeros = len(binary_repr) - len(binary_repr.rstrip('0'))\n",
    "            bucket_index = len(binary_repr) - trailing_zeros - 1\n",
    "            max_zeros[bucket_index] = max(max_zeros[bucket_index], trailing_zeros)\n",
    "\n",
    "    sum_of_estimates = sum(2**estimate for estimate in max_zeros)\n",
    "    estimate = num_buckets * (num_buckets - 1) / (2 * sum_of_estimates)\n",
    "    unique_hashtags_estimate = int(math.ceil(estimate * total_tweets))\n",
    "\n",
    "    return unique_hashtags_estimate\n",
    "\n",
    "\n",
    "def extract_hashtags(tweet):\n",
    "    return [word.strip(\"#\") for word in tweet.split() if word.startswith(\"#\")]\n",
    "stream_file = 'tweets.txt'\n",
    "unique_hashtags_estimate = estimate_unique_hashtags(stream_file)\n",
    "print(\"Estimated number of unique hashtags:\", unique_hashtags_estimate)"
   ]
  },
  {
   "cell_type": "code",
   "execution_count": null,
   "id": "2a293258",
   "metadata": {},
   "outputs": [],
   "source": []
  }
 ],
 "metadata": {
  "kernelspec": {
   "display_name": "Python 3 (ipykernel)",
   "language": "python",
   "name": "python3"
  },
  "language_info": {
   "codemirror_mode": {
    "name": "ipython",
    "version": 3
   },
   "file_extension": ".py",
   "mimetype": "text/x-python",
   "name": "python",
   "nbconvert_exporter": "python",
   "pygments_lexer": "ipython3",
   "version": "3.8.2"
  }
 },
 "nbformat": 4,
 "nbformat_minor": 5
}
